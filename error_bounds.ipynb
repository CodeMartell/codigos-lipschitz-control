{
 "cells": [
  {
   "cell_type": "code",
   "execution_count": 3,
   "id": "26b64dec",
   "metadata": {},
   "outputs": [
    {
     "name": "stdout",
     "output_type": "stream",
     "text": [
      "Requirement already satisfied: numpy in c:\\users\\rebeq\\anaconda3\\lib\\site-packages (1.24.3)\n",
      "Requirement already satisfied: torch in c:\\users\\rebeq\\anaconda3\\lib\\site-packages (2.4.1)\n",
      "Requirement already satisfied: filelock in c:\\users\\rebeq\\anaconda3\\lib\\site-packages (from torch) (3.9.0)\n",
      "Requirement already satisfied: typing-extensions>=4.8.0 in c:\\users\\rebeq\\anaconda3\\lib\\site-packages (from torch) (4.12.2)\n",
      "Requirement already satisfied: sympy in c:\\users\\rebeq\\anaconda3\\lib\\site-packages (from torch) (1.11.1)\n",
      "Requirement already satisfied: networkx in c:\\users\\rebeq\\anaconda3\\lib\\site-packages (from torch) (3.1)\n",
      "Requirement already satisfied: jinja2 in c:\\users\\rebeq\\anaconda3\\lib\\site-packages (from torch) (3.1.2)\n",
      "Requirement already satisfied: fsspec in c:\\users\\rebeq\\anaconda3\\lib\\site-packages (from torch) (2023.4.0)\n",
      "Requirement already satisfied: MarkupSafe>=2.0 in c:\\users\\rebeq\\anaconda3\\lib\\site-packages (from jinja2->torch) (2.1.1)\n",
      "Requirement already satisfied: mpmath>=0.19 in c:\\users\\rebeq\\anaconda3\\lib\\site-packages (from sympy->torch) (1.3.0)\n"
     ]
    }
   ],
   "source": [
    "!pip install numpy torch"
   ]
  },
  {
   "cell_type": "code",
   "execution_count": 4,
   "id": "b7823cc1",
   "metadata": {},
   "outputs": [],
   "source": [
    "import numpy as np\n",
    "import torch"
   ]
  },
  {
   "cell_type": "code",
   "execution_count": 5,
   "id": "ca5cc565",
   "metadata": {},
   "outputs": [],
   "source": [
    "def pred_error_norm(model, device, loader, p_norm=2):\n",
    "    norms = np.zeros([len(loader.dataset), 2])\n",
    "    \n",
    "    model.eval()\n",
    "    with torch.no_grad():\n",
    "        i = 0\n",
    "        for batch_idx, (data, target) in enumerate(loader):\n",
    "            data, target = data.to(device), target.to(device)\n",
    "            error = model(data) - target\n",
    "            n = data.shape[0]\n",
    "            norms[i:i+n, 0] = torch.norm(data, p=p_norm, dim=-1).detach().numpy()\n",
    "            norms[i:i+n, 1] = torch.norm(error, p=p_norm, dim=-1).detach().numpy()\n",
    "            i = i + n\n",
    "    \n",
    "    return norms"
   ]
  },
  {
   "cell_type": "code",
   "execution_count": 6,
   "id": "2ca5d870",
   "metadata": {},
   "outputs": [],
   "source": [
    "class SimpleNN(torch.nn.Module):\n",
    "    def __init__(self, input_size, output_size):\n",
    "        super(SimpleNN, self).__init__()\n",
    "        self.linear = torch.nn.Linear(input_size, output_size)\n",
    "    \n",
    "    def forward(self, x):\n",
    "        return self.linear(x)\n",
    "\n",
    "# Criando um exemplo de modelo\n",
    "model = SimpleNN(input_size=10, output_size=1).to('cpu')\n"
   ]
  },
  {
   "cell_type": "code",
   "execution_count": 7,
   "id": "a1390e8c",
   "metadata": {},
   "outputs": [],
   "source": [
    "from torch.utils.data import DataLoader, TensorDataset\n",
    "\n",
    "# Gerando dados de entrada e saída\n",
    "data = torch.randn(100, 10)  # 100 amostras de 10 variáveis de entrada\n",
    "target = torch.randn(100, 1)  # 100 alvos\n",
    "\n",
    "# Criando o DataLoader\n",
    "dataset = TensorDataset(data, target)\n",
    "loader = DataLoader(dataset, batch_size=10, shuffle=True)\n"
   ]
  },
  {
   "cell_type": "code",
   "execution_count": 8,
   "id": "0fe9dc03",
   "metadata": {},
   "outputs": [
    {
     "name": "stdout",
     "output_type": "stream",
     "text": [
      "[[3.65177727 2.14177752]\n",
      " [2.968894   2.22983956]\n",
      " [3.30653548 0.5195238 ]\n",
      " [3.6223309  1.16262805]\n",
      " [4.82881641 1.48849499]\n",
      " [2.07254267 0.43836766]\n",
      " [3.03881669 0.56734484]\n",
      " [2.71266556 1.59304726]\n",
      " [2.89210963 0.08254248]\n",
      " [2.2013464  0.19751871]\n",
      " [3.93534231 0.25120336]\n",
      " [3.30493236 2.14023447]\n",
      " [4.26304054 0.42403534]\n",
      " [3.256284   1.47911263]\n",
      " [3.24153185 0.11252606]\n",
      " [4.23702908 0.6379202 ]\n",
      " [2.83164763 1.38926542]\n",
      " [3.87202621 1.80580449]\n",
      " [4.02633715 4.0864439 ]\n",
      " [3.02641749 0.54817998]\n",
      " [2.89451241 0.39150265]\n",
      " [2.40976834 0.72313476]\n",
      " [1.76832449 1.4377656 ]\n",
      " [2.88701177 1.89818621]\n",
      " [2.62036467 0.30217695]\n",
      " [2.68040919 0.49396324]\n",
      " [3.37780952 2.00627708]\n",
      " [2.97566724 1.87232256]\n",
      " [4.54387474 1.82832432]\n",
      " [2.09983444 2.16114569]\n",
      " [2.95588136 1.08931327]\n",
      " [2.79367089 0.75869936]\n",
      " [2.52510047 1.12797773]\n",
      " [3.79717493 1.29546511]\n",
      " [3.37432432 0.05210316]\n",
      " [2.44009042 0.04458222]\n",
      " [2.55558634 0.18271729]\n",
      " [2.60465288 1.39197707]\n",
      " [3.75375175 1.04289651]\n",
      " [3.31172204 0.71354127]\n",
      " [2.14606476 0.29043102]\n",
      " [3.86101437 1.21082425]\n",
      " [2.88457584 0.41049063]\n",
      " [2.82176018 0.98987776]\n",
      " [2.81638598 1.03641355]\n",
      " [3.15737438 2.54541492]\n",
      " [3.55060887 0.50399745]\n",
      " [3.37355351 0.65765911]\n",
      " [3.29874539 1.61734211]\n",
      " [2.65009046 1.15220058]\n",
      " [2.45857644 1.90008342]\n",
      " [3.339185   1.18677676]\n",
      " [2.44759178 0.26196134]\n",
      " [3.02614093 0.34426156]\n",
      " [3.63272572 1.61953259]\n",
      " [3.90387392 0.74109143]\n",
      " [2.58659768 1.07020152]\n",
      " [3.61769772 1.28936267]\n",
      " [3.11097598 0.45836204]\n",
      " [4.49053192 0.51631045]\n",
      " [4.32836962 1.34486568]\n",
      " [2.45923233 0.41821262]\n",
      " [2.71323776 0.51333749]\n",
      " [3.48281121 0.90804124]\n",
      " [4.10633898 1.84923053]\n",
      " [2.48152637 0.17253408]\n",
      " [3.58856535 0.13172579]\n",
      " [3.31795502 0.61315596]\n",
      " [2.49073792 0.12875803]\n",
      " [3.37217975 1.35855472]\n",
      " [4.2067132  3.28343105]\n",
      " [3.16522145 0.64992779]\n",
      " [2.95057201 0.30913872]\n",
      " [3.40038872 1.50067306]\n",
      " [2.96517348 0.34060705]\n",
      " [4.37915373 1.69950032]\n",
      " [2.6134572  0.24635638]\n",
      " [2.36218381 0.56944883]\n",
      " [3.03040266 0.61850989]\n",
      " [2.54276538 0.61904043]\n",
      " [2.36713386 2.0461719 ]\n",
      " [3.91956878 1.60779893]\n",
      " [3.55020809 0.24773569]\n",
      " [3.03397036 0.1717658 ]\n",
      " [2.94412065 1.58393729]\n",
      " [3.25401568 0.57056779]\n",
      " [3.54358292 1.02196741]\n",
      " [3.9827683  1.07765961]\n",
      " [3.76585078 0.22230102]\n",
      " [4.50560093 0.13097069]\n",
      " [4.3714695  2.1179359 ]\n",
      " [2.38922906 1.63161564]\n",
      " [4.41220379 2.72403789]\n",
      " [4.36893892 3.64634538]\n",
      " [2.15924764 0.08155435]\n",
      " [2.2984972  0.81323296]\n",
      " [3.72936344 1.69020772]\n",
      " [2.7278688  0.38573635]\n",
      " [2.70661592 1.13230133]\n",
      " [2.63115454 0.85659313]]\n"
     ]
    }
   ],
   "source": [
    "# Testando a função pred_error_norm\n",
    "norms = pred_error_norm(model, device='cpu', loader=loader)\n",
    "\n",
    "# Exibindo o resultado\n",
    "print(norms)\n"
   ]
  },
  {
   "cell_type": "code",
   "execution_count": 9,
   "id": "fcde7e73",
   "metadata": {},
   "outputs": [],
   "source": [
    "# * O objetivo do código é analisar o desempenho do modelo ao medir as normas das entradas e dos erros de previsão.\n",
    "# * Esse cálculo é útil para analisar o comportamento do modelo e ver como os erros de previsão se relacionam com a \n",
    "# magnitude das entradas. Se um modelo tem um comportamento bem controlado, espera-se que os erros não aumentem de \n",
    "# forma desproporcional com o aumento das entradas."
   ]
  },
  {
   "cell_type": "code",
   "execution_count": null,
   "id": "a62271b7",
   "metadata": {},
   "outputs": [],
   "source": []
  }
 ],
 "metadata": {
  "kernelspec": {
   "display_name": "Python 3 (ipykernel)",
   "language": "python",
   "name": "python3"
  },
  "language_info": {
   "codemirror_mode": {
    "name": "ipython",
    "version": 3
   },
   "file_extension": ".py",
   "mimetype": "text/x-python",
   "name": "python",
   "nbconvert_exporter": "python",
   "pygments_lexer": "ipython3",
   "version": "3.11.5"
  }
 },
 "nbformat": 4,
 "nbformat_minor": 5
}
